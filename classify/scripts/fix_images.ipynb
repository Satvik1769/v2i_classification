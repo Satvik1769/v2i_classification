{
 "cells": [
  {
   "cell_type": "code",
   "execution_count": 1,
   "metadata": {},
   "outputs": [
    {
     "name": "stderr",
     "output_type": "stream",
     "text": [
      "fastdup By Visual Layer, Inc. 2024. All rights reserved.\n"
     ]
    },
    {
     "name": "stdout",
     "output_type": "stream",
     "text": [
      "\n",
      "fastdup By Visual Layer, Inc. 2024. All rights reserved.\n",
      "\n",
      "A fastdup dataset object was created!\n",
      "\n",
      "Input directory is set to \u001b[0;35m\"../vehicle_dataset/dataset/vehicle_dataset/val\"\u001b[0m\n",
      "Work directory is set to \u001b[0;35m\"fastdup_work_dir/test\"\u001b[0m\n",
      "\n",
      "The next steps are:\n",
      "   1. Analyze your dataset with the \u001b[0;35m.run()\u001b[0m function of the dataset object\n",
      "   2. Interactively explore your data on your local machine with the \u001b[0;35m.explore()\u001b[0m function of the dataset object\n",
      "\n",
      "For more information, use \u001b[0;35mhelp(fastdup)\u001b[0m or check our documentation https://docs.visual-layer.com/docs/getting-started-with-fastdup.\n",
      "\n",
      "Initializing data [■■■■■■■■■■■■■■■■■■■■■■■■■■■■■■■■■■■■■■■■■■■■■■■■■■] 100% Estimated: 0 Minutes\r"
     ]
    },
    {
     "name": "stderr",
     "output_type": "stream",
     "text": [
      "Done: 100%|██████████| 3/3 [00:13<00:00,  4.52s/it]                  "
     ]
    },
    {
     "name": "stdout",
     "output_type": "stream",
     "text": [
      "\n",
      "Analysis complete. Use the \u001b[0;35m.explore()\u001b[0m function to interactively explore your data on your local machine.\n",
      "\n",
      "Alternatively, you can generate HTML-based galleries.\n",
      "For more information, use \u001b[0;35mhelp(fastdup)\u001b[0m or check our documentation https://docs.visual-layer.com/docs/getting-started-with-fastdup.\n",
      "\n"
     ]
    },
    {
     "name": "stderr",
     "output_type": "stream",
     "text": [
      "\n"
     ]
    },
    {
     "data": {
      "text/plain": [
       "0"
      ]
     },
     "execution_count": 1,
     "metadata": {},
     "output_type": "execute_result"
    }
   ],
   "source": [
    "import fastdup\n",
    "fd = fastdup.create(work_dir=\"fastdup_work_dir/test\", input_dir=\"../vehicle_dataset/dataset/vehicle_dataset/val\")\n",
    "fd.run()\n",
    "\n"
   ]
  },
  {
   "cell_type": "code",
   "execution_count": 2,
   "metadata": {},
   "outputs": [
    {
     "name": "stdout",
     "output_type": "stream",
     "text": [
      "\n",
      " ########################################################################################\n",
      "\n",
      "Dataset Analysis Summary: \n",
      "\n",
      "    Dataset contains 678 images\n",
      "    Valid images are 100.00% (678) of the data, invalid are 0.00% (0) of the data\n",
      "    Outliers: 6.19% (42) of images are possible outliers, and fall in the bottom 5.00% of similarity values.\n",
      "    For a detailed list of outliers, use `.outliers()`.\n",
      "\n"
     ]
    },
    {
     "data": {
      "text/plain": [
       "['Dataset contains 678 images',\n",
       " 'Valid images are 100.00% (678) of the data, invalid are 0.00% (0) of the data',\n",
       " 'Outliers: 6.19% (42) of images are possible outliers, and fall in the bottom 5.00% of similarity values.',\n",
       " 'For a detailed list of outliers, use `.outliers()`.\\n']"
      ]
     },
     "execution_count": 2,
     "metadata": {},
     "output_type": "execute_result"
    }
   ],
   "source": [
    "fd.summary()\n"
   ]
  },
  {
   "cell_type": "code",
   "execution_count": 3,
   "metadata": {},
   "outputs": [
    {
     "data": {
      "text/html": [
       "<div>\n",
       "<style scoped>\n",
       "    .dataframe tbody tr th:only-of-type {\n",
       "        vertical-align: middle;\n",
       "    }\n",
       "\n",
       "    .dataframe tbody tr th {\n",
       "        vertical-align: top;\n",
       "    }\n",
       "\n",
       "    .dataframe thead th {\n",
       "        text-align: right;\n",
       "    }\n",
       "</style>\n",
       "<table border=\"1\" class=\"dataframe\">\n",
       "  <thead>\n",
       "    <tr style=\"text-align: right;\">\n",
       "      <th></th>\n",
       "      <th>filename</th>\n",
       "      <th>index</th>\n",
       "      <th>error_code</th>\n",
       "      <th>is_valid</th>\n",
       "      <th>fd_index</th>\n",
       "    </tr>\n",
       "  </thead>\n",
       "  <tbody>\n",
       "  </tbody>\n",
       "</table>\n",
       "</div>"
      ],
      "text/plain": [
       "Empty DataFrame\n",
       "Columns: [filename, index, error_code, is_valid, fd_index]\n",
       "Index: []"
      ]
     },
     "execution_count": 3,
     "metadata": {},
     "output_type": "execute_result"
    }
   ],
   "source": [
    "fd.invalid_instances()\n"
   ]
  },
  {
   "cell_type": "code",
   "execution_count": 4,
   "metadata": {},
   "outputs": [
    {
     "data": {
      "text/html": [
       "<div>\n",
       "<style scoped>\n",
       "    .dataframe tbody tr th:only-of-type {\n",
       "        vertical-align: middle;\n",
       "    }\n",
       "\n",
       "    .dataframe tbody tr th {\n",
       "        vertical-align: top;\n",
       "    }\n",
       "\n",
       "    .dataframe thead th {\n",
       "        text-align: right;\n",
       "    }\n",
       "</style>\n",
       "<table border=\"1\" class=\"dataframe\">\n",
       "  <thead>\n",
       "    <tr style=\"text-align: right;\">\n",
       "      <th></th>\n",
       "      <th>index</th>\n",
       "      <th>component_id</th>\n",
       "      <th>count</th>\n",
       "      <th>mean_distance</th>\n",
       "      <th>min_distance</th>\n",
       "      <th>max_distance</th>\n",
       "      <th>filename</th>\n",
       "      <th>error_code</th>\n",
       "      <th>is_valid</th>\n",
       "      <th>fd_index</th>\n",
       "    </tr>\n",
       "  </thead>\n",
       "  <tbody>\n",
       "    <tr>\n",
       "      <th>0</th>\n",
       "      <td>28</td>\n",
       "      <td>28</td>\n",
       "      <td>22</td>\n",
       "      <td>0.968173</td>\n",
       "      <td>0.960126</td>\n",
       "      <td>0.974445</td>\n",
       "      <td>../vehicle_dataset/dataset/vehicle_dataset/val/auto-rickshaw/12_19171_15-31-49_031595.jpg</td>\n",
       "      <td>VALID</td>\n",
       "      <td>True</td>\n",
       "      <td>28</td>\n",
       "    </tr>\n",
       "    <tr>\n",
       "      <th>1</th>\n",
       "      <td>32</td>\n",
       "      <td>32</td>\n",
       "      <td>4</td>\n",
       "      <td>0.960909</td>\n",
       "      <td>0.960909</td>\n",
       "      <td>0.960909</td>\n",
       "      <td>../vehicle_dataset/dataset/vehicle_dataset/val/auto-rickshaw/12_30857_15-31-49_029144.jpg</td>\n",
       "      <td>VALID</td>\n",
       "      <td>True</td>\n",
       "      <td>32</td>\n",
       "    </tr>\n",
       "    <tr>\n",
       "      <th>2</th>\n",
       "      <td>33</td>\n",
       "      <td>28</td>\n",
       "      <td>22</td>\n",
       "      <td>0.968173</td>\n",
       "      <td>0.960126</td>\n",
       "      <td>0.974445</td>\n",
       "      <td>../vehicle_dataset/dataset/vehicle_dataset/val/auto-rickshaw/12_43149_15-31-49_032590.jpg</td>\n",
       "      <td>VALID</td>\n",
       "      <td>True</td>\n",
       "      <td>33</td>\n",
       "    </tr>\n",
       "    <tr>\n",
       "      <th>3</th>\n",
       "      <td>41</td>\n",
       "      <td>28</td>\n",
       "      <td>22</td>\n",
       "      <td>0.968173</td>\n",
       "      <td>0.960126</td>\n",
       "      <td>0.974445</td>\n",
       "      <td>../vehicle_dataset/dataset/vehicle_dataset/val/auto-rickshaw/14_13398_15-31-49_029856.jpg</td>\n",
       "      <td>VALID</td>\n",
       "      <td>True</td>\n",
       "      <td>41</td>\n",
       "    </tr>\n",
       "    <tr>\n",
       "      <th>4</th>\n",
       "      <td>56</td>\n",
       "      <td>28</td>\n",
       "      <td>22</td>\n",
       "      <td>0.968173</td>\n",
       "      <td>0.960126</td>\n",
       "      <td>0.974445</td>\n",
       "      <td>../vehicle_dataset/dataset/vehicle_dataset/val/auto-rickshaw/18_23291_15-31-49_029036.jpg</td>\n",
       "      <td>VALID</td>\n",
       "      <td>True</td>\n",
       "      <td>56</td>\n",
       "    </tr>\n",
       "  </tbody>\n",
       "</table>\n",
       "</div>"
      ],
      "text/plain": [
       "   index  component_id  count  mean_distance  min_distance  max_distance                                                                                   filename error_code  is_valid  fd_index\n",
       "0     28            28     22       0.968173      0.960126      0.974445  ../vehicle_dataset/dataset/vehicle_dataset/val/auto-rickshaw/12_19171_15-31-49_031595.jpg      VALID      True        28\n",
       "1     32            32      4       0.960909      0.960909      0.960909  ../vehicle_dataset/dataset/vehicle_dataset/val/auto-rickshaw/12_30857_15-31-49_029144.jpg      VALID      True        32\n",
       "2     33            28     22       0.968173      0.960126      0.974445  ../vehicle_dataset/dataset/vehicle_dataset/val/auto-rickshaw/12_43149_15-31-49_032590.jpg      VALID      True        33\n",
       "3     41            28     22       0.968173      0.960126      0.974445  ../vehicle_dataset/dataset/vehicle_dataset/val/auto-rickshaw/14_13398_15-31-49_029856.jpg      VALID      True        41\n",
       "4     56            28     22       0.968173      0.960126      0.974445  ../vehicle_dataset/dataset/vehicle_dataset/val/auto-rickshaw/18_23291_15-31-49_029036.jpg      VALID      True        56"
      ]
     },
     "execution_count": 4,
     "metadata": {},
     "output_type": "execute_result"
    }
   ],
   "source": [
    "connected_components_df , _ = fd.connected_components()\n",
    "connected_components_df.head()\n"
   ]
  },
  {
   "cell_type": "code",
   "execution_count": 5,
   "metadata": {},
   "outputs": [],
   "source": [
    "# a function to group connected components\n",
    "def get_clusters(df, sort_by='count', min_count=2, ascending=False):\n",
    "    # columns to aggregate\n",
    "    agg_dict = {'filename': list, 'mean_distance': max, 'count': len}\n",
    "\n",
    "    if 'label' in df.columns:\n",
    "        agg_dict['label'] = list\n",
    "    \n",
    "    # filter by count\n",
    "    df = df[df['count'] >= min_count]\n",
    "    \n",
    "    # group and aggregate columns\n",
    "    grouped_df = df.groupby('component_id').agg(agg_dict)\n",
    "    \n",
    "    # sort\n",
    "    grouped_df = grouped_df.sort_values(by=[sort_by], ascending=ascending)\n",
    "    return grouped_df\n"
   ]
  },
  {
   "cell_type": "code",
   "execution_count": 6,
   "metadata": {},
   "outputs": [
    {
     "data": {
      "text/html": [
       "<div>\n",
       "<style scoped>\n",
       "    .dataframe tbody tr th:only-of-type {\n",
       "        vertical-align: middle;\n",
       "    }\n",
       "\n",
       "    .dataframe tbody tr th {\n",
       "        vertical-align: top;\n",
       "    }\n",
       "\n",
       "    .dataframe thead th {\n",
       "        text-align: right;\n",
       "    }\n",
       "</style>\n",
       "<table border=\"1\" class=\"dataframe\">\n",
       "  <thead>\n",
       "    <tr style=\"text-align: right;\">\n",
       "      <th></th>\n",
       "      <th>filename</th>\n",
       "      <th>mean_distance</th>\n",
       "      <th>count</th>\n",
       "    </tr>\n",
       "    <tr>\n",
       "      <th>component_id</th>\n",
       "      <th></th>\n",
       "      <th></th>\n",
       "      <th></th>\n",
       "    </tr>\n",
       "  </thead>\n",
       "  <tbody>\n",
       "    <tr>\n",
       "      <th>499</th>\n",
       "      <td>[../vehicle_dataset/dataset/vehicle_dataset/val/truck/10_15209_13-12-37_002179.jpg, ../vehicle_dataset/dataset/vehicle_dataset/val/truck/10_32132_13-12-37_007261.jpg, ../vehicle_dataset/dataset/vehicle_dataset/val/truck/13_7061_14-31-49_038468.jpg, ../vehicle_dataset/dataset/vehicle_dataset/val/truck/16_15467_15-31-49_027265.jpg, ../vehicle_dataset/dataset/vehicle_dataset/val/truck/19_10615_16-01-50_010927.jpg, ../vehicle_dataset/dataset/vehicle_dataset/val/truck/5_13099_13-12-37_004872.jpg, ../vehicle_dataset/dataset/vehicle_dataset/val/truck/6_58739_13-12-37_001709.jpg, ../vehicle_dataset/dataset/vehicle_dataset/val/truck/8_35815_14-31-49_027972.jpg]</td>\n",
       "      <td>0.968806</td>\n",
       "      <td>8</td>\n",
       "    </tr>\n",
       "    <tr>\n",
       "      <th>573</th>\n",
       "      <td>[../vehicle_dataset/dataset/vehicle_dataset/val/van/1_2out06-00-07138.png, ../vehicle_dataset/dataset/vehicle_dataset/val/van/1_2out06-30-0566.png, ../vehicle_dataset/dataset/vehicle_dataset/val/van/14_2out07-00-06166.png, ../vehicle_dataset/dataset/vehicle_dataset/val/van/2_2out06-30-08120.png, ../vehicle_dataset/dataset/vehicle_dataset/val/van/3_2out06-30-0516.png, ../vehicle_dataset/dataset/vehicle_dataset/val/van/4_2out06-00-07259.png, ../vehicle_dataset/dataset/vehicle_dataset/val/van/5_2out06-30-08222.png]</td>\n",
       "      <td>0.978347</td>\n",
       "      <td>7</td>\n",
       "    </tr>\n",
       "    <tr>\n",
       "      <th>28</th>\n",
       "      <td>[../vehicle_dataset/dataset/vehicle_dataset/val/auto-rickshaw/12_19171_15-31-49_031595.jpg, ../vehicle_dataset/dataset/vehicle_dataset/val/auto-rickshaw/12_43149_15-31-49_032590.jpg, ../vehicle_dataset/dataset/vehicle_dataset/val/auto-rickshaw/14_13398_15-31-49_029856.jpg, ../vehicle_dataset/dataset/vehicle_dataset/val/auto-rickshaw/18_23291_15-31-49_029036.jpg, ../vehicle_dataset/dataset/vehicle_dataset/val/auto-rickshaw/24_23654_15-31-49_030169.jpg, ../vehicle_dataset/dataset/vehicle_dataset/val/auto-rickshaw/35_26906_15-31-49_032374.jpg]</td>\n",
       "      <td>0.968173</td>\n",
       "      <td>6</td>\n",
       "    </tr>\n",
       "    <tr>\n",
       "      <th>306</th>\n",
       "      <td>[../vehicle_dataset/dataset/vehicle_dataset/val/mini-truck/0_32974_16-31-50_011967.jpg, ../vehicle_dataset/dataset/vehicle_dataset/val/mini-truck/3_13647_16-40-13_004476.jpg, ../vehicle_dataset/dataset/vehicle_dataset/val/mini-truck/5_30740_16-40-13_000337.jpg, ../vehicle_dataset/dataset/vehicle_dataset/val/mini-truck/7_14443_16-40-13_005411.jpg, ../vehicle_dataset/dataset/vehicle_dataset/val/mini-truck/7_15057_16-31-50_008514.jpg]</td>\n",
       "      <td>0.968706</td>\n",
       "      <td>5</td>\n",
       "    </tr>\n",
       "    <tr>\n",
       "      <th>502</th>\n",
       "      <td>[../vehicle_dataset/dataset/vehicle_dataset/val/truck/11_32847_16-40-13_023556.jpg, ../vehicle_dataset/dataset/vehicle_dataset/val/truck/13_18775_16-40-13_020453.jpg, ../vehicle_dataset/dataset/vehicle_dataset/val/truck/6_15020_16-40-13_013169.jpg, ../vehicle_dataset/dataset/vehicle_dataset/val/truck/7_3561_16-31-50_004107.jpg]</td>\n",
       "      <td>0.966033</td>\n",
       "      <td>4</td>\n",
       "    </tr>\n",
       "  </tbody>\n",
       "</table>\n",
       "</div>"
      ],
      "text/plain": [
       "                                                                                                                                                                                                                                                                                                                                                                                                                                                                                                                                                                                                                                                                                          filename  mean_distance  count\n",
       "component_id                                                                                                                                                                                                                                                                                                                                                                                                                                                                                                                                                                                                                                                                                                            \n",
       "499           [../vehicle_dataset/dataset/vehicle_dataset/val/truck/10_15209_13-12-37_002179.jpg, ../vehicle_dataset/dataset/vehicle_dataset/val/truck/10_32132_13-12-37_007261.jpg, ../vehicle_dataset/dataset/vehicle_dataset/val/truck/13_7061_14-31-49_038468.jpg, ../vehicle_dataset/dataset/vehicle_dataset/val/truck/16_15467_15-31-49_027265.jpg, ../vehicle_dataset/dataset/vehicle_dataset/val/truck/19_10615_16-01-50_010927.jpg, ../vehicle_dataset/dataset/vehicle_dataset/val/truck/5_13099_13-12-37_004872.jpg, ../vehicle_dataset/dataset/vehicle_dataset/val/truck/6_58739_13-12-37_001709.jpg, ../vehicle_dataset/dataset/vehicle_dataset/val/truck/8_35815_14-31-49_027972.jpg]       0.968806      8\n",
       "573                                                                                                                                                          [../vehicle_dataset/dataset/vehicle_dataset/val/van/1_2out06-00-07138.png, ../vehicle_dataset/dataset/vehicle_dataset/val/van/1_2out06-30-0566.png, ../vehicle_dataset/dataset/vehicle_dataset/val/van/14_2out07-00-06166.png, ../vehicle_dataset/dataset/vehicle_dataset/val/van/2_2out06-30-08120.png, ../vehicle_dataset/dataset/vehicle_dataset/val/van/3_2out06-30-0516.png, ../vehicle_dataset/dataset/vehicle_dataset/val/van/4_2out06-00-07259.png, ../vehicle_dataset/dataset/vehicle_dataset/val/van/5_2out06-30-08222.png]       0.978347      7\n",
       "28                                                                                                                              [../vehicle_dataset/dataset/vehicle_dataset/val/auto-rickshaw/12_19171_15-31-49_031595.jpg, ../vehicle_dataset/dataset/vehicle_dataset/val/auto-rickshaw/12_43149_15-31-49_032590.jpg, ../vehicle_dataset/dataset/vehicle_dataset/val/auto-rickshaw/14_13398_15-31-49_029856.jpg, ../vehicle_dataset/dataset/vehicle_dataset/val/auto-rickshaw/18_23291_15-31-49_029036.jpg, ../vehicle_dataset/dataset/vehicle_dataset/val/auto-rickshaw/24_23654_15-31-49_030169.jpg, ../vehicle_dataset/dataset/vehicle_dataset/val/auto-rickshaw/35_26906_15-31-49_032374.jpg]       0.968173      6\n",
       "306                                                                                                                                                                                                                                            [../vehicle_dataset/dataset/vehicle_dataset/val/mini-truck/0_32974_16-31-50_011967.jpg, ../vehicle_dataset/dataset/vehicle_dataset/val/mini-truck/3_13647_16-40-13_004476.jpg, ../vehicle_dataset/dataset/vehicle_dataset/val/mini-truck/5_30740_16-40-13_000337.jpg, ../vehicle_dataset/dataset/vehicle_dataset/val/mini-truck/7_14443_16-40-13_005411.jpg, ../vehicle_dataset/dataset/vehicle_dataset/val/mini-truck/7_15057_16-31-50_008514.jpg]       0.968706      5\n",
       "502                                                                                                                                                                                                                                                                                                                                                      [../vehicle_dataset/dataset/vehicle_dataset/val/truck/11_32847_16-40-13_023556.jpg, ../vehicle_dataset/dataset/vehicle_dataset/val/truck/13_18775_16-40-13_020453.jpg, ../vehicle_dataset/dataset/vehicle_dataset/val/truck/6_15020_16-40-13_013169.jpg, ../vehicle_dataset/dataset/vehicle_dataset/val/truck/7_3561_16-31-50_004107.jpg]       0.966033      4"
      ]
     },
     "execution_count": 6,
     "metadata": {},
     "output_type": "execute_result"
    }
   ],
   "source": [
    "clusters_df = get_clusters(connected_components_df)\n",
    "clusters_df.head()\n"
   ]
  },
  {
   "cell_type": "code",
   "execution_count": 7,
   "metadata": {},
   "outputs": [
    {
     "name": "stdout",
     "output_type": "stream",
     "text": [
      "Found 32 highly similar images to discard\n"
     ]
    }
   ],
   "source": [
    "# First sample from each cluster that is kept\n",
    "cluster_images_to_keep = []\n",
    "list_of_duplicates = []\n",
    "\n",
    "for cluster_file_list in clusters_df.filename:\n",
    "    # keep first file, discard rest\n",
    "    keep = cluster_file_list[0]\n",
    "    discard = cluster_file_list[1:]\n",
    "    \n",
    "    cluster_images_to_keep.append(keep)\n",
    "    list_of_duplicates.extend(discard)\n",
    "\n",
    "print(f\"Found {len(set(list_of_duplicates))} highly similar images to discard\")\n"
   ]
  },
  {
   "cell_type": "code",
   "execution_count": 8,
   "metadata": {},
   "outputs": [
    {
     "name": "stdout",
     "output_type": "stream",
     "text": [
      "Removed: ../vehicle_dataset/dataset/vehicle_dataset/val/truck/10_32132_13-12-37_007261.jpg\n",
      "Removed: ../vehicle_dataset/dataset/vehicle_dataset/val/truck/13_7061_14-31-49_038468.jpg\n",
      "Removed: ../vehicle_dataset/dataset/vehicle_dataset/val/truck/16_15467_15-31-49_027265.jpg\n",
      "Removed: ../vehicle_dataset/dataset/vehicle_dataset/val/truck/19_10615_16-01-50_010927.jpg\n",
      "Removed: ../vehicle_dataset/dataset/vehicle_dataset/val/truck/5_13099_13-12-37_004872.jpg\n",
      "Removed: ../vehicle_dataset/dataset/vehicle_dataset/val/truck/6_58739_13-12-37_001709.jpg\n",
      "Removed: ../vehicle_dataset/dataset/vehicle_dataset/val/truck/8_35815_14-31-49_027972.jpg\n",
      "Removed: ../vehicle_dataset/dataset/vehicle_dataset/val/van/1_2out06-30-0566.png\n",
      "Removed: ../vehicle_dataset/dataset/vehicle_dataset/val/van/14_2out07-00-06166.png\n",
      "Removed: ../vehicle_dataset/dataset/vehicle_dataset/val/van/2_2out06-30-08120.png\n",
      "Removed: ../vehicle_dataset/dataset/vehicle_dataset/val/van/3_2out06-30-0516.png\n",
      "Removed: ../vehicle_dataset/dataset/vehicle_dataset/val/van/4_2out06-00-07259.png\n",
      "Removed: ../vehicle_dataset/dataset/vehicle_dataset/val/van/5_2out06-30-08222.png\n",
      "Removed: ../vehicle_dataset/dataset/vehicle_dataset/val/auto-rickshaw/12_43149_15-31-49_032590.jpg\n",
      "Removed: ../vehicle_dataset/dataset/vehicle_dataset/val/auto-rickshaw/14_13398_15-31-49_029856.jpg\n",
      "Removed: ../vehicle_dataset/dataset/vehicle_dataset/val/auto-rickshaw/18_23291_15-31-49_029036.jpg\n",
      "Removed: ../vehicle_dataset/dataset/vehicle_dataset/val/auto-rickshaw/24_23654_15-31-49_030169.jpg\n",
      "Removed: ../vehicle_dataset/dataset/vehicle_dataset/val/auto-rickshaw/35_26906_15-31-49_032374.jpg\n",
      "Removed: ../vehicle_dataset/dataset/vehicle_dataset/val/mini-truck/3_13647_16-40-13_004476.jpg\n",
      "Removed: ../vehicle_dataset/dataset/vehicle_dataset/val/mini-truck/5_30740_16-40-13_000337.jpg\n",
      "Removed: ../vehicle_dataset/dataset/vehicle_dataset/val/mini-truck/7_14443_16-40-13_005411.jpg\n",
      "Removed: ../vehicle_dataset/dataset/vehicle_dataset/val/mini-truck/7_15057_16-31-50_008514.jpg\n",
      "Removed: ../vehicle_dataset/dataset/vehicle_dataset/val/truck/13_18775_16-40-13_020453.jpg\n",
      "Removed: ../vehicle_dataset/dataset/vehicle_dataset/val/truck/6_15020_16-40-13_013169.jpg\n",
      "Removed: ../vehicle_dataset/dataset/vehicle_dataset/val/truck/7_3561_16-31-50_004107.jpg\n",
      "Removed: ../vehicle_dataset/dataset/vehicle_dataset/val/van/6_2out07-00-06203.png\n",
      "Removed: ../vehicle_dataset/dataset/vehicle_dataset/val/van/7_2out06-00-05161.png\n",
      "Removed: ../vehicle_dataset/dataset/vehicle_dataset/val/auto-rickshaw/21_43563_15-31-49_029507.jpg\n",
      "Removed: ../vehicle_dataset/dataset/vehicle_dataset/val/mini-truck/2_12438_16-40-13_015851.jpg\n",
      "Removed: ../vehicle_dataset/dataset/vehicle_dataset/val/mini-truck/5_13866_16-40-13_020176.jpg\n",
      "Removed: ../vehicle_dataset/dataset/vehicle_dataset/val/van/3_49873_16-01-50_010879.jpg\n",
      "Removed: ../vehicle_dataset/dataset/vehicle_dataset/val/van/2_2out06-00-07201.png\n"
     ]
    }
   ],
   "source": [
    "import os\n",
    "# Remove each file\n",
    "for file_path in list_of_duplicates:\n",
    "    try:\n",
    "        os.remove(file_path)\n",
    "        print(f\"Removed: {file_path}\")\n",
    "    except FileNotFoundError:\n",
    "        print(f\"File not found: {file_path}\")\n",
    "    except Exception as e:\n",
    "        print(f\"Error removing {file_path}: {e}\")"
   ]
  },
  {
   "cell_type": "code",
   "execution_count": 9,
   "metadata": {},
   "outputs": [
    {
     "data": {
      "text/html": [
       "<div>\n",
       "<style scoped>\n",
       "    .dataframe tbody tr th:only-of-type {\n",
       "        vertical-align: middle;\n",
       "    }\n",
       "\n",
       "    .dataframe tbody tr th {\n",
       "        vertical-align: top;\n",
       "    }\n",
       "\n",
       "    .dataframe thead th {\n",
       "        text-align: right;\n",
       "    }\n",
       "</style>\n",
       "<table border=\"1\" class=\"dataframe\">\n",
       "  <thead>\n",
       "    <tr style=\"text-align: right;\">\n",
       "      <th></th>\n",
       "      <th>outlier</th>\n",
       "      <th>nearest</th>\n",
       "      <th>distance</th>\n",
       "      <th>filename_outlier</th>\n",
       "      <th>index_x</th>\n",
       "      <th>error_code_outlier</th>\n",
       "      <th>is_valid_outlier</th>\n",
       "      <th>fd_index_outlier</th>\n",
       "      <th>filename_nearest</th>\n",
       "      <th>index_y</th>\n",
       "      <th>error_code_nearest</th>\n",
       "      <th>is_valid_nearest</th>\n",
       "      <th>fd_index_nearest</th>\n",
       "    </tr>\n",
       "  </thead>\n",
       "  <tbody>\n",
       "    <tr>\n",
       "      <th>0</th>\n",
       "      <td>466</td>\n",
       "      <td>195</td>\n",
       "      <td>0.542719</td>\n",
       "      <td>../vehicle_dataset/dataset/vehicle_dataset/val/motorcycle/4_2out19-17-50217.png</td>\n",
       "      <td>466</td>\n",
       "      <td>VALID</td>\n",
       "      <td>True</td>\n",
       "      <td>466</td>\n",
       "      <td>../vehicle_dataset/dataset/vehicle_dataset/val/bicycle/3_2out07-16-08221.png</td>\n",
       "      <td>195</td>\n",
       "      <td>VALID</td>\n",
       "      <td>True</td>\n",
       "      <td>195</td>\n",
       "    </tr>\n",
       "    <tr>\n",
       "      <th>1</th>\n",
       "      <td>559</td>\n",
       "      <td>219</td>\n",
       "      <td>0.585810</td>\n",
       "      <td>../vehicle_dataset/dataset/vehicle_dataset/val/truck/4_60938_23-10-21_001325.jpg</td>\n",
       "      <td>559</td>\n",
       "      <td>VALID</td>\n",
       "      <td>True</td>\n",
       "      <td>559</td>\n",
       "      <td>../vehicle_dataset/dataset/vehicle_dataset/val/bus/1_19348_15-31-49_000825.jpg</td>\n",
       "      <td>219</td>\n",
       "      <td>VALID</td>\n",
       "      <td>True</td>\n",
       "      <td>219</td>\n",
       "    </tr>\n",
       "    <tr>\n",
       "      <th>2</th>\n",
       "      <td>214</td>\n",
       "      <td>145</td>\n",
       "      <td>0.614933</td>\n",
       "      <td>../vehicle_dataset/dataset/vehicle_dataset/val/bus/0_vlcsnap-2020-01-24-12h46m25s731.png</td>\n",
       "      <td>214</td>\n",
       "      <td>VALID</td>\n",
       "      <td>True</td>\n",
       "      <td>214</td>\n",
       "      <td>../vehicle_dataset/dataset/vehicle_dataset/val/bicycle/13_2out07-00-10151.png</td>\n",
       "      <td>145</td>\n",
       "      <td>VALID</td>\n",
       "      <td>True</td>\n",
       "      <td>145</td>\n",
       "    </tr>\n",
       "    <tr>\n",
       "      <th>3</th>\n",
       "      <td>446</td>\n",
       "      <td>274</td>\n",
       "      <td>0.634265</td>\n",
       "      <td>../vehicle_dataset/dataset/vehicle_dataset/val/motorcycle/19_vlcsnap-2020-01-24-12h55m29s297.png</td>\n",
       "      <td>446</td>\n",
       "      <td>VALID</td>\n",
       "      <td>True</td>\n",
       "      <td>446</td>\n",
       "      <td>../vehicle_dataset/dataset/vehicle_dataset/val/car/12_vlcsnap-2020-01-24-12h04m05s354.png</td>\n",
       "      <td>274</td>\n",
       "      <td>VALID</td>\n",
       "      <td>True</td>\n",
       "      <td>274</td>\n",
       "    </tr>\n",
       "    <tr>\n",
       "      <th>4</th>\n",
       "      <td>187</td>\n",
       "      <td>487</td>\n",
       "      <td>0.667698</td>\n",
       "      <td>../vehicle_dataset/dataset/vehicle_dataset/val/bicycle/2_vlcsnap-2020-01-24-12h33m00s621.png</td>\n",
       "      <td>187</td>\n",
       "      <td>VALID</td>\n",
       "      <td>True</td>\n",
       "      <td>187</td>\n",
       "      <td>../vehicle_dataset/dataset/vehicle_dataset/val/rickshaw/0_vlcsnap-2020-01-24-13h01m40s300.png</td>\n",
       "      <td>487</td>\n",
       "      <td>VALID</td>\n",
       "      <td>True</td>\n",
       "      <td>487</td>\n",
       "    </tr>\n",
       "  </tbody>\n",
       "</table>\n",
       "</div>"
      ],
      "text/plain": [
       "   outlier  nearest  distance                                                                                  filename_outlier  index_x error_code_outlier  is_valid_outlier  fd_index_outlier                                                                               filename_nearest  index_y error_code_nearest  is_valid_nearest  fd_index_nearest\n",
       "0      466      195  0.542719                   ../vehicle_dataset/dataset/vehicle_dataset/val/motorcycle/4_2out19-17-50217.png      466              VALID              True               466                   ../vehicle_dataset/dataset/vehicle_dataset/val/bicycle/3_2out07-16-08221.png      195              VALID              True               195\n",
       "1      559      219  0.585810                  ../vehicle_dataset/dataset/vehicle_dataset/val/truck/4_60938_23-10-21_001325.jpg      559              VALID              True               559                 ../vehicle_dataset/dataset/vehicle_dataset/val/bus/1_19348_15-31-49_000825.jpg      219              VALID              True               219\n",
       "2      214      145  0.614933          ../vehicle_dataset/dataset/vehicle_dataset/val/bus/0_vlcsnap-2020-01-24-12h46m25s731.png      214              VALID              True               214                  ../vehicle_dataset/dataset/vehicle_dataset/val/bicycle/13_2out07-00-10151.png      145              VALID              True               145\n",
       "3      446      274  0.634265  ../vehicle_dataset/dataset/vehicle_dataset/val/motorcycle/19_vlcsnap-2020-01-24-12h55m29s297.png      446              VALID              True               446      ../vehicle_dataset/dataset/vehicle_dataset/val/car/12_vlcsnap-2020-01-24-12h04m05s354.png      274              VALID              True               274\n",
       "4      187      487  0.667698      ../vehicle_dataset/dataset/vehicle_dataset/val/bicycle/2_vlcsnap-2020-01-24-12h33m00s621.png      187              VALID              True               187  ../vehicle_dataset/dataset/vehicle_dataset/val/rickshaw/0_vlcsnap-2020-01-24-13h01m40s300.png      487              VALID              True               487"
      ]
     },
     "execution_count": 9,
     "metadata": {},
     "output_type": "execute_result"
    }
   ],
   "source": [
    "outlier_df = fd.outliers()\n",
    "outlier_df.head()"
   ]
  },
  {
   "cell_type": "code",
   "execution_count": 10,
   "metadata": {},
   "outputs": [
    {
     "data": {
      "text/plain": [
       "['../vehicle_dataset/dataset/vehicle_dataset/val/motorcycle/4_2out19-17-50217.png',\n",
       " '../vehicle_dataset/dataset/vehicle_dataset/val/truck/4_60938_23-10-21_001325.jpg',\n",
       " '../vehicle_dataset/dataset/vehicle_dataset/val/bus/0_vlcsnap-2020-01-24-12h46m25s731.png',\n",
       " '../vehicle_dataset/dataset/vehicle_dataset/val/motorcycle/19_vlcsnap-2020-01-24-12h55m29s297.png',\n",
       " '../vehicle_dataset/dataset/vehicle_dataset/val/bicycle/2_vlcsnap-2020-01-24-12h33m00s621.png',\n",
       " '../vehicle_dataset/dataset/vehicle_dataset/val/truck/1_37606_23-40-22_001142.jpg',\n",
       " '../vehicle_dataset/dataset/vehicle_dataset/val/motorcycle/21_2out17-05-28231.png',\n",
       " '../vehicle_dataset/dataset/vehicle_dataset/val/bicycle/3_2out07-16-08221.png',\n",
       " '../vehicle_dataset/dataset/vehicle_dataset/val/bicycle/5_2out20-47-50318.png',\n",
       " '../vehicle_dataset/dataset/vehicle_dataset/val/truck/1_25053_15-31-49_035312.jpg',\n",
       " '../vehicle_dataset/dataset/vehicle_dataset/val/bus/5_vlcsnap-2020-01-24-12h31m17s156.png',\n",
       " '../vehicle_dataset/dataset/vehicle_dataset/val/truck/2_5754_06-30-09_001126.jpg']"
      ]
     },
     "execution_count": 10,
     "metadata": {},
     "output_type": "execute_result"
    }
   ],
   "source": [
    "list_of_outliers = outlier_df[outlier_df.distance < 0.68].filename_outlier.tolist()\n",
    "list_of_outliers\n"
   ]
  },
  {
   "cell_type": "code",
   "execution_count": 11,
   "metadata": {},
   "outputs": [
    {
     "name": "stdout",
     "output_type": "stream",
     "text": [
      "Removed: ../vehicle_dataset/dataset/vehicle_dataset/val/motorcycle/4_2out19-17-50217.png\n",
      "Removed: ../vehicle_dataset/dataset/vehicle_dataset/val/truck/4_60938_23-10-21_001325.jpg\n",
      "Removed: ../vehicle_dataset/dataset/vehicle_dataset/val/bus/0_vlcsnap-2020-01-24-12h46m25s731.png\n",
      "Removed: ../vehicle_dataset/dataset/vehicle_dataset/val/motorcycle/19_vlcsnap-2020-01-24-12h55m29s297.png\n",
      "Removed: ../vehicle_dataset/dataset/vehicle_dataset/val/bicycle/2_vlcsnap-2020-01-24-12h33m00s621.png\n",
      "Removed: ../vehicle_dataset/dataset/vehicle_dataset/val/truck/1_37606_23-40-22_001142.jpg\n",
      "Removed: ../vehicle_dataset/dataset/vehicle_dataset/val/motorcycle/21_2out17-05-28231.png\n",
      "Removed: ../vehicle_dataset/dataset/vehicle_dataset/val/bicycle/3_2out07-16-08221.png\n",
      "Removed: ../vehicle_dataset/dataset/vehicle_dataset/val/bicycle/5_2out20-47-50318.png\n",
      "Removed: ../vehicle_dataset/dataset/vehicle_dataset/val/truck/1_25053_15-31-49_035312.jpg\n",
      "Removed: ../vehicle_dataset/dataset/vehicle_dataset/val/bus/5_vlcsnap-2020-01-24-12h31m17s156.png\n",
      "Removed: ../vehicle_dataset/dataset/vehicle_dataset/val/truck/2_5754_06-30-09_001126.jpg\n"
     ]
    }
   ],
   "source": [
    "# Remove each file\n",
    "for file_path in list_of_outliers:\n",
    "    try:\n",
    "        os.remove(file_path)\n",
    "        print(f\"Removed: {file_path}\")\n",
    "    except FileNotFoundError:\n",
    "        print(f\"File not found: {file_path}\")\n",
    "    except Exception as e:\n",
    "        print(f\"Error removing {file_path}: {e}\")"
   ]
  }
 ],
 "metadata": {
  "kernelspec": {
   "display_name": "Python 3",
   "language": "python",
   "name": "python3"
  },
  "language_info": {
   "codemirror_mode": {
    "name": "ipython",
    "version": 3
   },
   "file_extension": ".py",
   "mimetype": "text/x-python",
   "name": "python",
   "nbconvert_exporter": "python",
   "pygments_lexer": "ipython3",
   "version": "3.11.4"
  }
 },
 "nbformat": 4,
 "nbformat_minor": 2
}
